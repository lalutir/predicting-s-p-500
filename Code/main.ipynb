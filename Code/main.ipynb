{
 "cells": [
  {
   "cell_type": "markdown",
   "metadata": {},
   "source": [
    "# 0. Importing libraries"
   ]
  },
  {
   "cell_type": "code",
   "execution_count": 6,
   "metadata": {},
   "outputs": [],
   "source": [
    "import pandas as pd\n",
    "\n",
    "from datetime import timedelta\n",
    "from loading_api_key import *\n",
    "from loading_data import *\n",
    "from historic import *\n",
    "from feature_engineering import *\n",
    "from modelling import *\n",
    "from visualizing import *\n",
    "from predicting import *\n",
    "\n",
    "import warnings\n",
    "warnings.filterwarnings('ignore')\n",
    "\n",
    "import logging\n",
    "logger = logging.getLogger('cmdstanpy')\n",
    "logger.addHandler(logging.NullHandler())\n",
    "logger.propagate = False\n",
    "logger.setLevel(logging.CRITICAL)"
   ]
  },
  {
   "cell_type": "code",
   "execution_count": 7,
   "metadata": {},
   "outputs": [],
   "source": [
    "api_key = load_api_key()['API_KEY']"
   ]
  },
  {
   "cell_type": "code",
   "execution_count": 8,
   "metadata": {},
   "outputs": [],
   "source": [
    "today = pd.Timestamp.today().normalize()\n",
    "one_week_ahead = today + timedelta(weeks=1)\n",
    "two_week_ahead = today + timedelta(weeks=2)\n",
    "three_week_ahead = today + timedelta(weeks=3)\n",
    "four_week_ahead = today + timedelta(weeks=4)\n",
    "\n",
    "yesterday = today - timedelta(days=1)\n",
    "two_day_ago = today - timedelta(days=2)\n",
    "one_week_ago = today - timedelta(weeks=1)\n",
    "two_week_ago = today - timedelta(weeks=2)\n",
    "three_week_ago = today - timedelta(weeks=3)\n",
    "four_week_ago = today - timedelta(weeks=4)\n",
    "one_month_ago = today - timedelta(days=30)\n",
    "six_month_ago = today - timedelta(days=180)\n",
    "one_year_ago = today - timedelta(weeks=52)\n",
    "five_year_ago = today - timedelta(weeks=260)"
   ]
  },
  {
   "cell_type": "markdown",
   "metadata": {},
   "source": [
    "# 1. Loading S&P500 data"
   ]
  },
  {
   "cell_type": "code",
   "execution_count": 9,
   "metadata": {},
   "outputs": [],
   "source": [
    "sp_prices = load_sp()"
   ]
  },
  {
   "cell_type": "code",
   "execution_count": 10,
   "metadata": {},
   "outputs": [
    {
     "data": {
      "text/html": [
       "<div>\n",
       "<style scoped>\n",
       "    .dataframe tbody tr th:only-of-type {\n",
       "        vertical-align: middle;\n",
       "    }\n",
       "\n",
       "    .dataframe tbody tr th {\n",
       "        vertical-align: top;\n",
       "    }\n",
       "\n",
       "    .dataframe thead th {\n",
       "        text-align: right;\n",
       "    }\n",
       "</style>\n",
       "<table border=\"1\" class=\"dataframe\">\n",
       "  <thead>\n",
       "    <tr style=\"text-align: right;\">\n",
       "      <th></th>\n",
       "      <th>ds</th>\n",
       "      <th>y</th>\n",
       "      <th>day_of_week</th>\n",
       "      <th>month</th>\n",
       "    </tr>\n",
       "  </thead>\n",
       "  <tbody>\n",
       "    <tr>\n",
       "      <th>0</th>\n",
       "      <td>2020-01-31</td>\n",
       "      <td>51.928</td>\n",
       "      <td>4</td>\n",
       "      <td>1</td>\n",
       "    </tr>\n",
       "    <tr>\n",
       "      <th>1</th>\n",
       "      <td>2020-02-03</td>\n",
       "      <td>52.419</td>\n",
       "      <td>0</td>\n",
       "      <td>2</td>\n",
       "    </tr>\n",
       "    <tr>\n",
       "      <th>2</th>\n",
       "      <td>2020-02-04</td>\n",
       "      <td>53.394</td>\n",
       "      <td>1</td>\n",
       "      <td>2</td>\n",
       "    </tr>\n",
       "    <tr>\n",
       "      <th>3</th>\n",
       "      <td>2020-02-05</td>\n",
       "      <td>53.864</td>\n",
       "      <td>2</td>\n",
       "      <td>2</td>\n",
       "    </tr>\n",
       "    <tr>\n",
       "      <th>4</th>\n",
       "      <td>2020-02-06</td>\n",
       "      <td>54.336</td>\n",
       "      <td>3</td>\n",
       "      <td>2</td>\n",
       "    </tr>\n",
       "    <tr>\n",
       "      <th>...</th>\n",
       "      <td>...</td>\n",
       "      <td>...</td>\n",
       "      <td>...</td>\n",
       "      <td>...</td>\n",
       "    </tr>\n",
       "    <tr>\n",
       "      <th>1306</th>\n",
       "      <td>2025-02-19</td>\n",
       "      <td>112.105</td>\n",
       "      <td>2</td>\n",
       "      <td>2</td>\n",
       "    </tr>\n",
       "    <tr>\n",
       "      <th>1307</th>\n",
       "      <td>2025-02-20</td>\n",
       "      <td>112.105</td>\n",
       "      <td>3</td>\n",
       "      <td>2</td>\n",
       "    </tr>\n",
       "    <tr>\n",
       "      <th>1308</th>\n",
       "      <td>2025-02-21</td>\n",
       "      <td>110.830</td>\n",
       "      <td>4</td>\n",
       "      <td>2</td>\n",
       "    </tr>\n",
       "    <tr>\n",
       "      <th>1309</th>\n",
       "      <td>2025-02-24</td>\n",
       "      <td>109.390</td>\n",
       "      <td>0</td>\n",
       "      <td>2</td>\n",
       "    </tr>\n",
       "    <tr>\n",
       "      <th>1310</th>\n",
       "      <td>2025-02-25</td>\n",
       "      <td>107.365</td>\n",
       "      <td>1</td>\n",
       "      <td>2</td>\n",
       "    </tr>\n",
       "  </tbody>\n",
       "</table>\n",
       "<p>1311 rows × 4 columns</p>\n",
       "</div>"
      ],
      "text/plain": [
       "             ds        y  day_of_week  month\n",
       "0    2020-01-31   51.928            4      1\n",
       "1    2020-02-03   52.419            0      2\n",
       "2    2020-02-04   53.394            1      2\n",
       "3    2020-02-05   53.864            2      2\n",
       "4    2020-02-06   54.336            3      2\n",
       "...         ...      ...          ...    ...\n",
       "1306 2025-02-19  112.105            2      2\n",
       "1307 2025-02-20  112.105            3      2\n",
       "1308 2025-02-21  110.830            4      2\n",
       "1309 2025-02-24  109.390            0      2\n",
       "1310 2025-02-25  107.365            1      2\n",
       "\n",
       "[1311 rows x 4 columns]"
      ]
     },
     "execution_count": 10,
     "metadata": {},
     "output_type": "execute_result"
    }
   ],
   "source": [
    "sp_prices"
   ]
  },
  {
   "cell_type": "markdown",
   "metadata": {},
   "source": [
    "# 2. Historic data"
   ]
  },
  {
   "cell_type": "code",
   "execution_count": null,
   "metadata": {},
   "outputs": [],
   "source": [
    "historic_data(two_day_ago, sp_prices, 'one day')\n",
    "historic_data(one_week_ago, sp_prices, 'one week')\n",
    "historic_data(one_month_ago, sp_prices, 'one month')\n",
    "historic_data(six_month_ago, sp_prices, 'six months')\n",
    "historic_data(one_year_ago, sp_prices, 'one year')\n",
    "historic_data(five_year_ago, sp_prices, 'five years')\n",
    "historic_data(sp_prices['ds'].min(), sp_prices, 'all time')"
   ]
  },
  {
   "cell_type": "markdown",
   "metadata": {},
   "source": [
    "# 3. Feature engineering"
   ]
  },
  {
   "cell_type": "code",
   "execution_count": null,
   "metadata": {},
   "outputs": [
    {
     "name": "stderr",
     "output_type": "stream",
     "text": [
      "16:48:41 - cmdstanpy - INFO - Chain [1] start processing\n",
      "16:48:42 - cmdstanpy - INFO - Chain [1] done processing\n",
      "16:48:42 - cmdstanpy - INFO - Chain [1] start processing\n",
      "16:48:42 - cmdstanpy - INFO - Chain [1] done processing\n",
      "16:48:43 - cmdstanpy - INFO - Chain [1] start processing\n",
      "16:48:43 - cmdstanpy - INFO - Chain [1] done processing\n"
     ]
    }
   ],
   "source": [
    "aapl_future, aapl = load_stock_data('AAPL', 'aapl', api_key, periods=36)\n",
    "nvda_future, nvda = load_stock_data('NVDA', 'nvda', api_key, periods=36)\n",
    "tsla_future, tsla = load_stock_data('TSLA', 'tsla', api_key, periods=36)"
   ]
  },
  {
   "cell_type": "code",
   "execution_count": 4,
   "metadata": {},
   "outputs": [],
   "source": [
    "df_to_merge = [aapl, nvda, tsla]\n",
    "sp_prices_merged = merge_sp_features(sp_prices, df_to_merge)"
   ]
  },
  {
   "cell_type": "markdown",
   "metadata": {},
   "source": [
    "# 4. Modelling"
   ]
  },
  {
   "cell_type": "code",
   "execution_count": null,
   "metadata": {},
   "outputs": [
    {
     "name": "stderr",
     "output_type": "stream",
     "text": [
      "16:48:44 - cmdstanpy - INFO - Chain [1] start processing\n",
      "16:48:44 - cmdstanpy - INFO - Chain [1] done processing\n"
     ]
    }
   ],
   "source": [
    "future_cols = ['day_of_week', 'month', 'aapl', 'nvda', 'tsla']\n",
    "future_dfs = [aapl_future, nvda_future, tsla_future]\n",
    "forecast = modelling(sp_prices_merged, future_cols=future_cols, future_dfs=future_dfs, periods=36)"
   ]
  },
  {
   "cell_type": "markdown",
   "metadata": {},
   "source": [
    "# 5. Visualizing"
   ]
  },
  {
   "cell_type": "code",
   "execution_count": 6,
   "metadata": {},
   "outputs": [
    {
     "data": {
      "image/png": "[encoded data removed]",
      "text/plain": [
       "<Figure size 1000x700 with 1 Axes>"
      ]
     },
     "metadata": {},
     "output_type": "display_data"
    }
   ],
   "source": [
    "visualization(sp_prices, forecast)"
   ]
  },
  {
   "cell_type": "markdown",
   "metadata": {},
   "source": [
    "# 6. Predictions"
   ]
  },
  {
   "cell_type": "code",
   "execution_count": 8,
   "metadata": {},
   "outputs": [],
   "source": [
    "prediction_today = forecast[forecast['ds'] == today]\n",
    "prediction_one_week = forecast[forecast['ds'] == one_week_ahead]\n",
    "prediction_two_week = forecast[forecast['ds'] == two_week_ahead]\n",
    "prediction_three_week = forecast[forecast['ds'] == three_week_ahead]\n",
    "prediction_four_week = forecast[forecast['ds'] == four_week_ahead]"
   ]
  },
  {
   "cell_type": "code",
   "execution_count": 9,
   "metadata": {},
   "outputs": [],
   "source": [
    "increase_today = calculate_increase(prediction_today, sp_prices)\n",
    "increase_one_week = calculate_increase(prediction_one_week, sp_prices)\n",
    "increase_two_week = calculate_increase(prediction_two_week, sp_prices)\n",
    "increase_three_week = calculate_increase(prediction_three_week, sp_prices)\n",
    "increase_four_week = calculate_increase(prediction_four_week, sp_prices)"
   ]
  },
  {
   "cell_type": "code",
   "execution_count": 10,
   "metadata": {},
   "outputs": [],
   "source": [
    "lower_increase_today = calculate_lower_increase(prediction_today, sp_prices)\n",
    "lower_increase_one_week = calculate_lower_increase(prediction_one_week, sp_prices)\n",
    "lower_increase_two_week = calculate_lower_increase(prediction_two_week, sp_prices)\n",
    "lower_increase_three_week = calculate_lower_increase(prediction_three_week, sp_prices)\n",
    "lower_increase_four_week = calculate_lower_increase(prediction_four_week, sp_prices)"
   ]
  },
  {
   "cell_type": "code",
   "execution_count": 11,
   "metadata": {},
   "outputs": [],
   "source": [
    "upper_increase_today = calculate_upper_increase(prediction_today, sp_prices)\n",
    "upper_increase_one_week = calculate_upper_increase(prediction_one_week, sp_prices)\n",
    "upper_increase_two_week = calculate_upper_increase(prediction_two_week, sp_prices)\n",
    "upper_increase_three_week = calculate_upper_increase(prediction_three_week, sp_prices)\n",
    "upper_increase_four_week = calculate_upper_increase(prediction_four_week, sp_prices)"
   ]
  },
  {
   "cell_type": "code",
   "execution_count": 12,
   "metadata": {},
   "outputs": [
    {
     "name": "stdout",
     "output_type": "stream",
     "text": [
      "Prediction for 11-02-2025: €112.48. This represents an increase of 0.52%\n",
      "For this prediction, the lower limit is €110.35. This represent an increase of -1.41%\n",
      "The upper limit is €114.76. This represents an increase of 2.49%\n",
      "\n",
      "Prediction for 18-02-2025: €112.91. This represents an increase of 0.89%\n",
      "For this prediction, the lower limit is €110.76. This represent an increase of -1.03%\n",
      "The upper limit is €115.05. This represents an increase of 2.74%\n",
      "\n",
      "Prediction for 25-02-2025: €112.55. This represents an increase of 0.57%\n",
      "For this prediction, the lower limit is €110.27. This represent an increase of -1.48%\n",
      "The upper limit is €114.46. This represents an increase of 2.24%\n",
      "\n",
      "Prediction for 04-03-2025: €111.94. This represents an increase of 0.03%\n",
      "For this prediction, the lower limit is €109.82. This represent an increase of -1.89%\n",
      "The upper limit is €114.15. This represents an increase of 1.97%\n",
      "\n",
      "Prediction for 11-03-2025: €111.73. This represents an increase of -0.15%\n",
      "For this prediction, the lower limit is €109.5. This represent an increase of -2.19%\n",
      "The upper limit is €113.93. This represents an increase of 1.78%\n",
      "\n"
     ]
    }
   ],
   "source": [
    "print_increases(prediction_today, increase_today, lower_increase_today, upper_increase_today)\n",
    "print_increases(prediction_one_week, increase_one_week, lower_increase_one_week, upper_increase_one_week)\n",
    "print_increases(prediction_two_week, increase_two_week, lower_increase_two_week, upper_increase_two_week)\n",
    "print_increases(prediction_three_week, increase_three_week, lower_increase_three_week, upper_increase_three_week)\n",
    "print_increases(prediction_four_week, increase_four_week, lower_increase_four_week, upper_increase_four_week)"
   ]
  },
  {
   "cell_type": "markdown",
   "metadata": {},
   "source": [
    "# 7. Comparing predictions to actual values"
   ]
  },
  {
   "cell_type": "code",
   "execution_count": 13,
   "metadata": {},
   "outputs": [
    {
     "name": "stdout",
     "output_type": "stream",
     "text": [
      "Average error for 1-day predictions: €0.42\n",
      "Average error for 1-day predictions: 0.38%\n",
      "\n",
      "Average error for 1-week predictions: €nan\n",
      "Average error for 1-week predictions: nan%\n",
      "\n",
      "Average error for 2-week predictions: €nan\n",
      "Average error for 2-week predictions: nan%\n",
      "\n",
      "Average error for 3-week predictions: €nan\n",
      "Average error for 3-week predictions: nan%\n",
      "\n",
      "Average error for 4-week predictions: €nan\n",
      "Average error for 4-week predictions: nan%\n",
      "\n"
     ]
    }
   ],
   "source": [
    "compare_predictions_to_actual(sp_prices, prediction_today, today, yesterday, '1-day', 'Predicted closing values 1_day.csv', '1_day_error.csv')\n",
    "compare_predictions_to_actual(sp_prices, prediction_one_week, one_week_ahead, one_week_ago, '1-week', 'Predicted closing values 1_week.csv', '1_week_error.csv')\n",
    "compare_predictions_to_actual(sp_prices, prediction_two_week, two_week_ahead, two_week_ago, '2-week', 'Predicted closing values 2_week.csv', '2_week_error.csv')\n",
    "compare_predictions_to_actual(sp_prices, prediction_three_week, three_week_ahead, three_week_ago, '3-week', 'Predicted closing values 3_week.csv', '3_week_error.csv')\n",
    "compare_predictions_to_actual(sp_prices, prediction_four_week, four_week_ahead, four_week_ago, '4-week', 'Predicted closing values 4_week.csv', '4_week_error.csv')"
   ]
  }
 ],
 "metadata": {
  "kernelspec": {
   "display_name": "Python 3",
   "language": "python",
   "name": "python3"
  },
  "language_info": {
   "codemirror_mode": {
    "name": "ipython",
    "version": 3
   },
   "file_extension": ".py",
   "mimetype": "text/x-python",
   "name": "python",
   "nbconvert_exporter": "python",
   "pygments_lexer": "ipython3",
   "version": "3.11.1"
  }
 },
 "nbformat": 4,
 "nbformat_minor": 2
}
